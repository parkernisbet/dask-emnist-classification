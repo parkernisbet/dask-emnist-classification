{
 "cells": [
  {
   "cell_type": "raw",
   "id": "811bfbd3",
   "metadata": {
    "active": "py"
   },
   "source": [
    "!/usr/bin/env python"
   ]
  },
  {
   "cell_type": "markdown",
   "id": "5f495547",
   "metadata": {
    "region_name": "md"
   },
   "source": [
    "# Dask EMNIST Classification"
   ]
  },
  {
   "cell_type": "markdown",
   "id": "14a21bac",
   "metadata": {
    "cell_marker": "''','''",
    "region_name": "md"
   },
   "source": [
    "kjkhkjdshfhjkjhlfkjahselkjfhaeslkjfhldskjfhlskdjhflkdsjhflkjdshflksjdhflksjdhflkjsdhflkjsdh\n",
    "lfkjhsdkjfhlsdkjhflksjdhflksjdhflskjdhflskdjhflksjdhflkjshdflkjsdhflkjsdhflkjsdhfklsjdhflksdjh"
   ]
  },
  {
   "cell_type": "code",
   "execution_count": null,
   "id": "64c4539a",
   "metadata": {},
   "outputs": [],
   "source": [
    "# consolidated module imports\n",
    "import numpy as np\n",
    "import os\n",
    "import pickle\n",
    "import time\n",
    "from joblib import Parallel, delayed\n",
    "from PIL import Image, ImageOps\n",
    "from subprocess import check_call\n",
    "from zipfile import ZipFile"
   ]
  },
  {
   "cell_type": "code",
   "execution_count": null,
   "id": "0a18237d",
   "metadata": {
    "lines_to_next_cell": 1
   },
   "outputs": [],
   "source": [
    "# downloading and unzipping kaggle images\n",
    "paths = ['Train', 'Validation', 'handwritten-characters.zip']\n",
    "checks = [os.path.exists(path) for path in paths]\n",
    "if set(checks) != {True}:\n",
    "    cmd = 'kaggle datasets download -d vaibhao/handwritten-characters'\n",
    "    check_call(cmd, shell = True)\n",
    "    with ZipFile('handwritten-characters.zip', 'r') as z:\n",
    "        z.extractall()\n",
    "    try:\n",
    "        check_call('rm -r dataset', shell = True)\n",
    "    except:\n",
    "        pass"
   ]
  },
  {
   "cell_type": "code",
   "execution_count": null,
   "id": "6d7655e2",
   "metadata": {
    "lines_to_next_cell": 1
   },
   "outputs": [],
   "source": [
    "# functions to load images\n",
    "def to_array(full):\n",
    "    '''\n",
    "    Reads in an image from the provided full path and returns a flattened array.\n",
    "    '''\n",
    "    img = Image.open(full)\n",
    "    if img.size != (32, 32):\n",
    "        img = ImageOps.expand(img, border = 2)\n",
    "    return np.array(img).ravel()\n",
    "\n",
    "def load_from_path(path):\n",
    "    '''\n",
    "    Loads images from directory into numpy array.\n",
    "\n",
    "        Arguments:\n",
    "            path (string): path to directory to be indexed\n",
    "\n",
    "        Returns:\n",
    "            images (array): n x d array of flattened images\n",
    "            labels (array): n x 1 array of labels\n",
    "\n",
    "    '''\n",
    "\n",
    "    path = path + '/' if path[-1] != '/' else path\n",
    "    children = os.listdir(path)\n",
    "    imgs = []\n",
    "    labs = []\n",
    "    for dir in children:\n",
    "        files = os.listdir(path + dir)\n",
    "        imgs.extend(Parallel(n_jobs = -1)(delayed(to_array)(path + dir + '/' + f) for f in files))\n",
    "        labs.extend([dir]*len(files))\n",
    "    images = np.vstack(imgs)\n",
    "    labels = np.array(labs)\n",
    "    return (images, labels)"
   ]
  },
  {
   "cell_type": "code",
   "execution_count": null,
   "id": "8324d18b",
   "metadata": {},
   "outputs": [],
   "source": [
    "# timing loading of train data\n",
    "t1 = time.time()\n",
    "X_train, y_train = load_from_path('Train')\n",
    "t2 = time.time()\n",
    "print(f'Execution time: {t2 - t1}')\n",
    "print(f'Images loaded: {X_train.shape[0]}')"
   ]
  },
  {
   "cell_type": "code",
   "execution_count": null,
   "id": "0ab42939",
   "metadata": {},
   "outputs": [],
   "source": [
    "# ditto for validation data\n",
    "t1 = time.time()\n",
    "X_val, y_val = load_from_path('Validation')\n",
    "t2 = time.time()\n",
    "print(f'Execution time: {t2 - t1}')\n",
    "print(f'Images loaded: {X_val.shape[0]}')"
   ]
  },
  {
   "cell_type": "code",
   "execution_count": null,
   "id": "5ed1dd8b",
   "metadata": {
    "lines_to_next_cell": 2
   },
   "outputs": [],
   "source": []
  }
 ],
 "metadata": {
  "jupytext": {
   "cell_metadata_json": true,
   "formats": "ipynb,py:percent",
   "main_language": "python"
  },
  "language_info": {
   "codemirror_mode": {
    "name": "ipython",
    "version": 3
   },
   "file_extension": ".py",
   "mimetype": "text/x-python",
   "name": "python",
   "nbconvert_exporter": "python",
   "pygments_lexer": "ipython3",
   "version": 3
  }
 },
 "nbformat": 4,
 "nbformat_minor": 2
}
